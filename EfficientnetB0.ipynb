{
 "cells": [
  {
   "cell_type": "code",
   "execution_count": 1,
   "metadata": {
    "id": "x9YqTpBSONCH"
   },
   "outputs": [],
   "source": [
    "import tensorflow as tf\n",
    "from tensorflow.keras.preprocessing.image import ImageDataGenerator\n",
    "from tensorflow.keras.models import Model\n",
    "from tensorflow.keras.layers import Dense, GlobalAveragePooling2D\n",
    "from tensorflow.keras.applications import EfficientNetB0\n",
    "from tensorflow.keras.optimizers import Adam\n",
    "import pandas as pd\n",
    "import os"
   ]
  },
  {
   "cell_type": "code",
   "execution_count": 19,
   "metadata": {
    "id": "fAAWjUSQOZPI"
   },
   "outputs": [],
   "source": [
    "data = pd.read_csv('Final Fashion Dataset.csv')\n",
    "\n",
    "image_dir = 'images/images'\n",
    "\n",
    "# Add a new column to the DataFrame with the full image path\n",
    "data['Image_Path'] = data['filename'].apply(lambda x: os.path.join(image_dir, x))\n"
   ]
  },
  {
   "cell_type": "code",
   "execution_count": 3,
   "metadata": {
    "colab": {
     "base_uri": "https://localhost:8080/",
     "height": 504
    },
    "id": "nZxLmAngPdZi",
    "outputId": "f870d7a0-f378-467a-ddd7-d88c5479ce1f"
   },
   "outputs": [
    {
     "data": {
      "text/html": [
       "<div>\n",
       "<style scoped>\n",
       "    .dataframe tbody tr th:only-of-type {\n",
       "        vertical-align: middle;\n",
       "    }\n",
       "\n",
       "    .dataframe tbody tr th {\n",
       "        vertical-align: top;\n",
       "    }\n",
       "\n",
       "    .dataframe thead th {\n",
       "        text-align: right;\n",
       "    }\n",
       "</style>\n",
       "<table border=\"1\" class=\"dataframe\">\n",
       "  <thead>\n",
       "    <tr style=\"text-align: right;\">\n",
       "      <th></th>\n",
       "      <th>user_id</th>\n",
       "      <th>id</th>\n",
       "      <th>gender</th>\n",
       "      <th>masterCategory</th>\n",
       "      <th>subCategory</th>\n",
       "      <th>articleType</th>\n",
       "      <th>baseColour</th>\n",
       "      <th>season</th>\n",
       "      <th>year</th>\n",
       "      <th>usage</th>\n",
       "      <th>productDisplayName</th>\n",
       "      <th>filename</th>\n",
       "      <th>link</th>\n",
       "      <th>ratings</th>\n",
       "      <th>review</th>\n",
       "      <th>Month</th>\n",
       "      <th>Price (USD)</th>\n",
       "      <th>Image_Path</th>\n",
       "    </tr>\n",
       "  </thead>\n",
       "  <tbody>\n",
       "    <tr>\n",
       "      <th>0</th>\n",
       "      <td>93810</td>\n",
       "      <td>8493</td>\n",
       "      <td>Women</td>\n",
       "      <td>Apparel</td>\n",
       "      <td>Bottomwear</td>\n",
       "      <td>Skirts</td>\n",
       "      <td>Black</td>\n",
       "      <td>Fall</td>\n",
       "      <td>2011.0</td>\n",
       "      <td>Casual</td>\n",
       "      <td>Forever New Women Black Skirts</td>\n",
       "      <td>8493.jpg</td>\n",
       "      <td>http://assets.myntassets.com/v1/images/style/p...</td>\n",
       "      <td>5</td>\n",
       "      <td>Amazing quality! Definitely recommend. Would r...</td>\n",
       "      <td>November</td>\n",
       "      <td>46</td>\n",
       "      <td>images/images\\8493.jpg</td>\n",
       "    </tr>\n",
       "    <tr>\n",
       "      <th>1</th>\n",
       "      <td>24592</td>\n",
       "      <td>30757</td>\n",
       "      <td>Men</td>\n",
       "      <td>Apparel</td>\n",
       "      <td>Topwear</td>\n",
       "      <td>Kurtas</td>\n",
       "      <td>Grey</td>\n",
       "      <td>Summer</td>\n",
       "      <td>2012.0</td>\n",
       "      <td>Ethnic</td>\n",
       "      <td>Fabindia Men Grey Mangalgiri Kurta</td>\n",
       "      <td>30757.jpg</td>\n",
       "      <td>http://assets.myntassets.com/v1/images/style/p...</td>\n",
       "      <td>4</td>\n",
       "      <td>Perfect for any occasion, great buy..</td>\n",
       "      <td>September</td>\n",
       "      <td>29</td>\n",
       "      <td>images/images\\30757.jpg</td>\n",
       "    </tr>\n",
       "    <tr>\n",
       "      <th>2</th>\n",
       "      <td>13278</td>\n",
       "      <td>14881</td>\n",
       "      <td>Women</td>\n",
       "      <td>Accessories</td>\n",
       "      <td>Bags</td>\n",
       "      <td>Handbags</td>\n",
       "      <td>Black</td>\n",
       "      <td>Summer</td>\n",
       "      <td>2011.0</td>\n",
       "      <td>Casual</td>\n",
       "      <td>United Colors of Benetton Women Solid Black Ha...</td>\n",
       "      <td>14881.jpg</td>\n",
       "      <td>http://assets.myntassets.com/v1/images/style/p...</td>\n",
       "      <td>3</td>\n",
       "      <td>It's okay, nothing special.!</td>\n",
       "      <td>October</td>\n",
       "      <td>39</td>\n",
       "      <td>images/images\\14881.jpg</td>\n",
       "    </tr>\n",
       "    <tr>\n",
       "      <th>3</th>\n",
       "      <td>46048</td>\n",
       "      <td>48449</td>\n",
       "      <td>Men</td>\n",
       "      <td>Apparel</td>\n",
       "      <td>Topwear</td>\n",
       "      <td>Tshirts</td>\n",
       "      <td>Blue</td>\n",
       "      <td>Summer</td>\n",
       "      <td>2012.0</td>\n",
       "      <td>Casual</td>\n",
       "      <td>French Connection Men Blue T-shirt</td>\n",
       "      <td>48449.jpg</td>\n",
       "      <td>http://assets.myntassets.com/v1/images/style/p...</td>\n",
       "      <td>5</td>\n",
       "      <td>Comfortable and stylish, worth the price. and ...</td>\n",
       "      <td>August</td>\n",
       "      <td>39</td>\n",
       "      <td>images/images\\48449.jpg</td>\n",
       "    </tr>\n",
       "    <tr>\n",
       "      <th>4</th>\n",
       "      <td>42098</td>\n",
       "      <td>4697</td>\n",
       "      <td>Unisex</td>\n",
       "      <td>Accessories</td>\n",
       "      <td>Watches</td>\n",
       "      <td>Watches</td>\n",
       "      <td>Black</td>\n",
       "      <td>Winter</td>\n",
       "      <td>2016.0</td>\n",
       "      <td>Sports</td>\n",
       "      <td>ADIDAS Unisex Digital Duramo Black Watch</td>\n",
       "      <td>4697.jpg</td>\n",
       "      <td>http://assets.myntassets.com/v1/images/style/p...</td>\n",
       "      <td>4</td>\n",
       "      <td>Perfect for any occasion, great buy.!</td>\n",
       "      <td>March</td>\n",
       "      <td>33</td>\n",
       "      <td>images/images\\4697.jpg</td>\n",
       "    </tr>\n",
       "  </tbody>\n",
       "</table>\n",
       "</div>"
      ],
      "text/plain": [
       "   user_id     id  gender masterCategory subCategory articleType baseColour  \\\n",
       "0    93810   8493   Women        Apparel  Bottomwear      Skirts      Black   \n",
       "1    24592  30757     Men        Apparel     Topwear      Kurtas       Grey   \n",
       "2    13278  14881   Women    Accessories        Bags    Handbags      Black   \n",
       "3    46048  48449     Men        Apparel     Topwear     Tshirts       Blue   \n",
       "4    42098   4697  Unisex    Accessories     Watches     Watches      Black   \n",
       "\n",
       "   season    year   usage                                 productDisplayName  \\\n",
       "0    Fall  2011.0  Casual                     Forever New Women Black Skirts   \n",
       "1  Summer  2012.0  Ethnic                 Fabindia Men Grey Mangalgiri Kurta   \n",
       "2  Summer  2011.0  Casual  United Colors of Benetton Women Solid Black Ha...   \n",
       "3  Summer  2012.0  Casual                 French Connection Men Blue T-shirt   \n",
       "4  Winter  2016.0  Sports           ADIDAS Unisex Digital Duramo Black Watch   \n",
       "\n",
       "    filename                                               link  ratings  \\\n",
       "0   8493.jpg  http://assets.myntassets.com/v1/images/style/p...        5   \n",
       "1  30757.jpg  http://assets.myntassets.com/v1/images/style/p...        4   \n",
       "2  14881.jpg  http://assets.myntassets.com/v1/images/style/p...        3   \n",
       "3  48449.jpg  http://assets.myntassets.com/v1/images/style/p...        5   \n",
       "4   4697.jpg  http://assets.myntassets.com/v1/images/style/p...        4   \n",
       "\n",
       "                                              review      Month  Price (USD)  \\\n",
       "0  Amazing quality! Definitely recommend. Would r...   November           46   \n",
       "1              Perfect for any occasion, great buy..  September           29   \n",
       "2                       It's okay, nothing special.!    October           39   \n",
       "3  Comfortable and stylish, worth the price. and ...     August           39   \n",
       "4              Perfect for any occasion, great buy.!      March           33   \n",
       "\n",
       "                Image_Path  \n",
       "0   images/images\\8493.jpg  \n",
       "1  images/images\\30757.jpg  \n",
       "2  images/images\\14881.jpg  \n",
       "3  images/images\\48449.jpg  \n",
       "4   images/images\\4697.jpg  "
      ]
     },
     "execution_count": 3,
     "metadata": {},
     "output_type": "execute_result"
    }
   ],
   "source": [
    "data.head()"
   ]
  },
  {
   "cell_type": "code",
   "execution_count": 20,
   "metadata": {
    "colab": {
     "base_uri": "https://localhost:8080/"
    },
    "id": "ij_G9OytcS0Z",
    "outputId": "a238f3e0-3ba3-4721-ec28-6c3bc98b0717"
   },
   "outputs": [
    {
     "name": "stdout",
     "output_type": "stream",
     "text": [
      "Unique classes: ['Bottomwear' 'Topwear' 'Bags' 'Watches' 'Shoes' 'Flip Flops' 'Jewellery'\n",
      " 'Eyewear' 'Belts' 'Saree' 'Loungewear and Nightwear' 'Wallets' 'Socks']\n",
      "Number of unique classes: 13\n"
     ]
    }
   ],
   "source": [
    "# Display the unique class labels\n",
    "unique_classes = data['subCategory'].unique()\n",
    "print(f\"Unique classes: {unique_classes}\")\n",
    "print(f\"Number of unique classes: {len(unique_classes)}\")\n"
   ]
  },
  {
   "cell_type": "code",
   "execution_count": 21,
   "metadata": {
    "id": "Catka4PnPkgG"
   },
   "outputs": [],
   "source": [
    "train_datagen = ImageDataGenerator(\n",
    "    rescale=1.0/255,           # Normalize pixel values\n",
    "    validation_split=0.2       # Split 20% of data for validation\n",
    ")"
   ]
  },
  {
   "cell_type": "code",
   "execution_count": 22,
   "metadata": {
    "colab": {
     "base_uri": "https://localhost:8080/"
    },
    "id": "1pPJ3Ra-dr_W",
    "outputId": "cb198c5a-9223-4c2e-87e8-2623eb870b9e"
   },
   "outputs": [
    {
     "name": "stdout",
     "output_type": "stream",
     "text": [
      "Found 29184 validated image filenames belonging to 13 classes.\n"
     ]
    },
    {
     "name": "stderr",
     "output_type": "stream",
     "text": [
      "c:\\Users\\Chait\\AppData\\Local\\Programs\\Python\\Python312\\Lib\\site-packages\\keras\\src\\legacy\\preprocessing\\image.py:920: UserWarning: Found 5 invalid image filename(s) in x_col=\"Image_Path\". These filename(s) will be ignored.\n",
      "  warnings.warn(\n"
     ]
    }
   ],
   "source": [
    "train_generator = train_datagen.flow_from_dataframe(\n",
    "    data,\n",
    "    x_col='Image_Path',        # Full path to images\n",
    "    y_col='subCategory',         # Column with categories like \"shirt,\" \"jeans,\" etc.\n",
    "    target_size=(60,80),    # Resize images to 224x224 pixels\n",
    "    batch_size=32,\n",
    "    class_mode='categorical',\n",
    "    subset='training'\n",
    ")"
   ]
  },
  {
   "cell_type": "code",
   "execution_count": 23,
   "metadata": {
    "colab": {
     "base_uri": "https://localhost:8080/"
    },
    "id": "P47-jub6QCpQ",
    "outputId": "981e2b14-46c4-4c6d-af7a-f10d1789eda7"
   },
   "outputs": [
    {
     "name": "stdout",
     "output_type": "stream",
     "text": [
      "Found 7295 validated image filenames belonging to 13 classes.\n"
     ]
    },
    {
     "name": "stderr",
     "output_type": "stream",
     "text": [
      "c:\\Users\\Chait\\AppData\\Local\\Programs\\Python\\Python312\\Lib\\site-packages\\keras\\src\\legacy\\preprocessing\\image.py:920: UserWarning: Found 5 invalid image filename(s) in x_col=\"Image_Path\". These filename(s) will be ignored.\n",
      "  warnings.warn(\n"
     ]
    }
   ],
   "source": [
    "validation_generator = train_datagen.flow_from_dataframe(\n",
    "    data,\n",
    "    x_col='Image_Path',\n",
    "    y_col='subCategory',\n",
    "    target_size=(60,80),\n",
    "    batch_size=32,\n",
    "    class_mode='categorical',\n",
    "    subset='validation'\n",
    ")"
   ]
  },
  {
   "cell_type": "code",
   "execution_count": 24,
   "metadata": {
    "id": "krj9_CMJQLgo"
   },
   "outputs": [],
   "source": [
    "# Load EfficientNet with pretrained ImageNet weights, excluding the top layer\n",
    "base_model = EfficientNetB0(weights='imagenet', include_top=False, input_shape=(60,80,3))\n",
    "\n",
    "# Freeze the base model layers to retain pretrained weights\n",
    "base_model.trainable = False\n",
    "\n",
    "# Add custom layers\n",
    "x = base_model.output\n",
    "x = GlobalAveragePooling2D()(x)      # Pooling layer to reduce spatial dimensions\n",
    "x = Dense(512, activation='relu')(x) # Fully connected layer for feature learning\n",
    "x = Dense(256, activation='relu')(x) # Another dense layer for additional feature extraction\n",
    "predictions = Dense(len(unique_classes), activation='softmax')(x) # Output layer\n",
    "\n",
    "# Final model\n",
    "model = Model(inputs=base_model.input, outputs=predictions)"
   ]
  },
  {
   "cell_type": "code",
   "execution_count": 25,
   "metadata": {
    "id": "PlD0WXH0QX8o"
   },
   "outputs": [],
   "source": [
    "model.compile(optimizer=Adam(learning_rate=0.001),\n",
    "              loss='categorical_crossentropy',\n",
    "              metrics=['accuracy'])"
   ]
  },
  {
   "cell_type": "code",
   "execution_count": null,
   "metadata": {
    "colab": {
     "base_uri": "https://localhost:8080/"
    },
    "id": "-ToVvckWRSEr",
    "outputId": "e8396b94-eda1-41e8-e6f2-3edfe0dee427"
   },
   "outputs": [
    {
     "name": "stdout",
     "output_type": "stream",
     "text": [
      "Epoch 1/10\n"
     ]
    },
    {
     "name": "stderr",
     "output_type": "stream",
     "text": [
      "c:\\Users\\Chait\\AppData\\Local\\Programs\\Python\\Python312\\Lib\\site-packages\\keras\\src\\trainers\\data_adapters\\py_dataset_adapter.py:121: UserWarning: Your `PyDataset` class should call `super().__init__(**kwargs)` in its constructor. `**kwargs` can include `workers`, `use_multiprocessing`, `max_queue_size`. Do not pass these arguments to `fit()`, as they will be ignored.\n",
      "  self._warn_if_super_not_called()\n"
     ]
    },
    {
     "name": "stdout",
     "output_type": "stream",
     "text": [
      "\u001b[1m912/912\u001b[0m \u001b[32m━━━━━━━━━━━━━━━━━━━━\u001b[0m\u001b[37m\u001b[0m \u001b[1m253s\u001b[0m 267ms/step - accuracy: 0.4180 - loss: 1.9252 - val_accuracy: 0.4193 - val_loss: 1.8985\n",
      "Epoch 2/10\n",
      "\u001b[1m912/912\u001b[0m \u001b[32m━━━━━━━━━━━━━━━━━━━━\u001b[0m\u001b[37m\u001b[0m \u001b[1m247s\u001b[0m 270ms/step - accuracy: 0.4230 - loss: 1.8980 - val_accuracy: 0.4193 - val_loss: 1.8830\n",
      "Epoch 3/10\n",
      "\u001b[1m864/912\u001b[0m \u001b[32m━━━━━━━━━━━━━━━━━━\u001b[0m\u001b[37m━━\u001b[0m \u001b[1m10s\u001b[0m 218ms/step - accuracy: 0.4259 - loss: 1.8880"
     ]
    }
   ],
   "source": [
    "# Ensure that the data generators are not empty\n",
    "if len(train_generator) > 0 and len(validation_generator) > 0:\n",
    "    history = model.fit(\n",
    "        train_generator,\n",
    "        validation_data=validation_generator,\n",
    "        epochs=10,\n",
    "        verbose=1\n",
    "    )\n",
    "else:\n",
    "    print(\"Error: Data generators are empty. Please check the data and try again.\")"
   ]
  }
 ],
 "metadata": {
  "accelerator": "GPU",
  "colab": {
   "gpuType": "T4",
   "provenance": []
  },
  "kernelspec": {
   "display_name": "Python 3",
   "name": "python3"
  },
  "language_info": {
   "codemirror_mode": {
    "name": "ipython",
    "version": 3
   },
   "file_extension": ".py",
   "mimetype": "text/x-python",
   "name": "python",
   "nbconvert_exporter": "python",
   "pygments_lexer": "ipython3",
   "version": "3.12.0"
  }
 },
 "nbformat": 4,
 "nbformat_minor": 0
}
