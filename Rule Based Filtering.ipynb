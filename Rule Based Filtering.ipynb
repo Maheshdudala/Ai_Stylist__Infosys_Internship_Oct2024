{
  "nbformat": 4,
  "nbformat_minor": 0,
  "metadata": {
    "colab": {
      "provenance": []
    },
    "kernelspec": {
      "name": "python3",
      "display_name": "Python 3"
    },
    "language_info": {
      "name": "python"
    }
  },
  "cells": [
    {
      "cell_type": "code",
      "source": [
        "import pandas as pd\n",
        "from sklearn.metrics.pairwise import cosine_similarity\n",
        "from sklearn.preprocessing import OneHotEncoder\n",
        "import numpy as np"
      ],
      "metadata": {
        "id": "3Uqxj3bNKVjH"
      },
      "execution_count": null,
      "outputs": []
    },
    {
      "source": [
        "file_path = '/content/Final Fashion Dataset.csv'\n",
        "df = pd.read_csv(file_path)"
      ],
      "cell_type": "code",
      "metadata": {
        "id": "y9KUFbmMKYax"
      },
      "execution_count": null,
      "outputs": []
    },
    {
      "source": [
        "df_filtered = df[['gender', 'masterCategory', 'subCategory', 'articleType',\n",
        "                          'baseColour', 'usage', 'ratings', 'Price (USD)', 'link']]"
      ],
      "cell_type": "code",
      "metadata": {
        "id": "T5CLhvPEKbAy"
      },
      "execution_count": null,
      "outputs": []
    },
    {
      "source": [
        "encoder = OneHotEncoder(sparse_output=False, handle_unknown='ignore')  # Handle unknown categories\n",
        "encoded_columns = encoder.fit_transform(df_filtered[['gender', 'baseColour', 'usage']])\n",
        "encoded_df = pd.DataFrame(encoded_columns, columns=encoder.get_feature_names_out(['gender', 'baseColour', 'usage']))\n",
        "df_encoded = pd.concat([df_filtered.reset_index(drop=True), encoded_df], axis=1)"
      ],
      "cell_type": "code",
      "metadata": {
        "id": "nlg8ZldtKkFd"
      },
      "execution_count": null,
      "outputs": []
    },
    {
      "source": [
        "import colorsys\n",
        "\n",
        "def recommend_complementary_items(input_index, num_recommendations=1):\n",
        "    input_item = df_encoded.iloc[input_index]\n",
        "    gender = input_item['gender']\n",
        "    input_category = input_item['masterCategory']\n",
        "    input_subcategory = input_item['subCategory']\n",
        "\n",
        "    recommendation_categories = {\n",
        "    # Men's Apparel - Topwear\n",
        "    ('Men', 'Apparel', 'Topwear'): ['Bottomwear', 'Shoes', 'Accessories'],\n",
        "    ('Men', 'Apparel', 'Tshirts'): ['Jeans', 'Casual Shoes', 'Watches'],\n",
        "    ('Men', 'Apparel', 'Shirts'): ['Trousers', 'Formal Shoes', 'Watches'],\n",
        "    ('Men', 'Apparel', 'Sweatshirts'): ['Jeans', 'Casual Shoes', 'Caps'],\n",
        "    ('Men', 'Apparel', 'Jackets'): ['Trousers', 'Boots', 'Accessories'],\n",
        "\n",
        "    # Men's Apparel - Bottomwear\n",
        "    ('Men', 'Apparel', 'Bottomwear'): ['Topwear', 'Shoes', 'Belts'],\n",
        "    ('Men', 'Apparel', 'Jeans'): ['Tshirts', 'Sneakers', 'Belts'],\n",
        "    ('Men', 'Apparel', 'Trousers'): ['Shirts', 'Formal Shoes', 'Belts'],\n",
        "\n",
        "    # Men's Footwear\n",
        "    ('Men', 'Footwear', 'Shoes'): ['Apparel', 'Accessories'],\n",
        "    ('Men', 'Footwear', 'Formal Shoes'): ['Shirts', 'Trousers', 'Watches'],\n",
        "    ('Men', 'Footwear', 'Casual Shoes'): ['Tshirts', 'Jeans', 'Accessories'],\n",
        "    ('Men', 'Footwear', 'Sneakers'): ['Tshirts', 'Jeans', 'Caps'],\n",
        "\n",
        "    # Men's Accessories\n",
        "    ('Men', 'Accessories', 'Watches'): ['Apparel', 'Footwear'],\n",
        "    ('Men', 'Accessories', 'Belts'): ['Apparel', 'Footwear'],\n",
        "    ('Men', 'Accessories', 'Wallets'): ['Apparel', 'Footwear'],\n",
        "    ('Men', 'Accessories', 'Caps'): ['Tshirts', 'Jeans', 'Sneakers'],\n",
        "    ('Men', 'Accessories', 'Backpacks'): ['Apparel', 'Footwear'],\n",
        "\n",
        "    # Women's Apparel - Dresses and Full Outfits\n",
        "    ('Women', 'Apparel', 'Dress'): ['Accessories', 'Footwear'],\n",
        "    ('Women', 'Apparel', 'Dresses'): ['Footwear', 'Accessories'],\n",
        "    ('Women', 'Apparel', 'Lehenga Choli'): ['Jewellery', 'Footwear', 'Accessories'],\n",
        "    ('Women', 'Apparel', 'Sarees'): ['Jewellery', 'Footwear', 'Accessories'],\n",
        "    ('Women', 'Apparel', 'Night suits'): ['Loungewear and Nightwear'],\n",
        "    ('Women', 'Apparel', 'Nightdress'): ['Loungewear and Nightwear'],\n",
        "\n",
        "    # Women's Apparel - Topwear\n",
        "    ('Women', 'Apparel', 'Topwear'): ['Bottomwear', 'Shoes', 'Accessories'],\n",
        "    ('Women', 'Apparel', 'Tshirts'): ['Bottomwear', 'Footwear', 'Accessories'],\n",
        "    ('Women', 'Apparel', 'Shirts'): ['Bottomwear', 'Footwear', 'Accessories'],\n",
        "    ('Women', 'Apparel', 'Sweatshirts'): ['Bottomwear', 'Footwear', 'Accessories'],\n",
        "    ('Women', 'Apparel', 'Kurtas'): ['Leggings', 'Footwear', 'Accessories'],\n",
        "    ('Women', 'Apparel', 'Tops'): ['Bottomwear', 'Footwear', 'Accessories'],\n",
        "    ('Women', 'Apparel', 'Jackets'): ['Bottomwear', 'Shoes', 'Accessories'],\n",
        "\n",
        "    # Women's Apparel - Bottomwear\n",
        "    ('Women', 'Apparel', 'Bottomwear'): ['Topwear', 'Shoes', 'Accessories'],\n",
        "    ('Women', 'Apparel', 'Skirts'): ['Tops', 'Accessories', 'Footwear'],\n",
        "    ('Women', 'Apparel', 'Leggings'): ['Kurtas', 'Footwear', 'Accessories'],\n",
        "    ('Women', 'Apparel', 'Jeans'): ['Topwear', 'Shoes', 'Accessories'],\n",
        "    ('Women', 'Apparel', 'Trousers'): ['Topwear', 'Footwear', 'Accessories'],\n",
        "    ('Women', 'Apparel', 'Shorts'): ['Topwear', 'Shoes', 'Accessories'],\n",
        "    ('Women', 'Apparel', 'Tights'): ['Topwear', 'Footwear'],\n",
        "    ('Women', 'Apparel', 'Churidar'): ['Kurtas', 'Footwear', 'Accessories'],\n",
        "\n",
        "    # Women's Footwear\n",
        "    ('Women', 'Footwear', 'Shoes'): ['Apparel', 'Accessories'],\n",
        "    ('Women', 'Footwear', 'Sandal'): ['Apparel', 'Accessories'],\n",
        "    ('Women', 'Footwear', 'Formal Shoes'): ['Apparel', 'Accessories'],\n",
        "    ('Women', 'Footwear', 'Flip Flops'): ['Apparel', 'Accessories'],\n",
        "    ('Women', 'Footwear', 'Flats'): ['Apparel', 'Accessories'],\n",
        "    ('Women', 'Footwear', 'Heels'): ['Apparel', 'Accessories'],\n",
        "    ('Women', 'Footwear', 'Sports Shoes'): ['Apparel', 'Accessories'],\n",
        "\n",
        "    # Women's Accessories\n",
        "    ('Women', 'Accessories', 'Jewellery'): ['Apparel', 'Footwear'],\n",
        "    ('Women', 'Accessories', 'Jewellery Set'): ['Apparel', 'Footwear'],\n",
        "    ('Women', 'Accessories', 'Necklace and Chains'): ['Apparel', 'Footwear'],\n",
        "    ('Women', 'Accessories', 'Ring'): ['Apparel', 'Footwear'],\n",
        "    ('Women', 'Accessories', 'Earrings'): ['Apparel', 'Footwear'],\n",
        "    ('Women', 'Accessories', 'Bangle'): ['Apparel', 'Footwear'],\n",
        "    ('Women', 'Accessories', 'Bracelet'): ['Apparel', 'Footwear'],\n",
        "    ('Women', 'Accessories', 'Pendant'): ['Apparel', 'Footwear'],\n",
        "    ('Women', 'Accessories', 'Clutches'): ['Apparel', 'Footwear'],\n",
        "    ('Women', 'Accessories', 'Bags'): ['Apparel', 'Footwear'],\n",
        "    ('Women', 'Accessories', 'Backpacks'): ['Apparel', 'Footwear'],\n",
        "    ('Women', 'Accessories', 'Suspenders'): ['Apparel', 'Footwear'],\n",
        "    ('Women', 'Accessories', 'Wallets'): ['Apparel', 'Footwear'],\n",
        "    ('Women', 'Accessories', 'Caps'): ['Apparel', 'Footwear'],\n",
        "    ('Women', 'Accessories', 'Sunglasses'): ['Apparel', 'Footwear'],\n",
        "\n",
        "    # Miscellaneous\n",
        "    ('Women', 'Apparel', 'Loungewear and Nightwear'): ['Footwear', 'Accessories'],\n",
        "    ('Women', 'Apparel', 'Rompers'): ['Footwear', 'Accessories'],\n",
        "    ('Women', 'Apparel', 'Tunics'): ['Footwear', 'Accessories'],\n",
        "    ('Women', 'Apparel', 'Swimwear'): ['Accessories', 'Footwear'],\n",
        "    ('Men', 'Apparel', 'Tracksuits'): ['Footwear', 'Accessories'],\n",
        "    ('Women', 'Apparel', 'Salwar and Dupatta'): ['Footwear', 'Accessories'],\n",
        "    ('Men', 'Accessories', 'Tablet Sleeve'): ['Apparel', 'Footwear'],\n",
        "    ('Women', 'Accessories', 'Waistcoat'): ['Apparel', 'Footwear'],\n",
        "    ('Women', 'Footwear', 'Booties'): ['Apparel', 'Accessories']\n",
        "}\n",
        "\n",
        "    recommendation_key = (gender, input_category, input_subcategory)\n",
        "    categories_to_recommend = recommendation_categories.get(recommendation_key)\n",
        "\n",
        "    if categories_to_recommend is None:\n",
        "        print(f\"No specific recommendation rules found for input: {recommendation_key}\")\n",
        "        return {}\n",
        "\n",
        "    recommendations = {}\n",
        "    for category in categories_to_recommend:\n",
        "        filtered_items = df_encoded[(df_encoded['gender'] == gender) &\n",
        "                                    (df_encoded['usage'] == input_item['usage']) &\n",
        "                                    (df_encoded['masterCategory'] == category) &\n",
        "                                    (df_encoded.index != input_index)].copy()\n",
        "\n",
        "        if filtered_items.empty:\n",
        "            print(f\"No items found in the '{category}' category for the given input.\")\n",
        "            continue\n",
        "\n",
        "        # Calculate complementary color similarity (if applicable)\n",
        "        if category in ['Apparel', 'Footwear', 'Accessories']: # Assuming color is relevant for these\n",
        "            filtered_items['color_similarity'] = filtered_items.apply(\n",
        "                lambda row: calculate_complementary_color_similarity(input_item['baseColour'], row['baseColour']), axis=1)\n",
        "            sorted_items = filtered_items.sort_values(by=['color_similarity', 'ratings'], ascending=False)\n",
        "        else:\n",
        "            # For other categories, sort by ratings only\n",
        "            sorted_items = filtered_items.sort_values(by=['ratings'], ascending=False)\n",
        "\n",
        "        recommendations[category] = sorted_items.head(num_recommendations)\n",
        "\n",
        "    return recommendations\n",
        "\n",
        "# Assuming you have the calculate_complementary_color_similarity and get_rgb_from_color_name functions defined as before"
      ],
      "cell_type": "code",
      "metadata": {
        "id": "XZRcZRsSKm15"
      },
      "execution_count": null,
      "outputs": []
    },
    {
      "cell_type": "code",
      "source": [
        "def calculate_complementary_color_similarity(color1, color2):\n",
        "    \"\"\"Calculates the similarity between two colors based on their complementary colors.\"\"\"\n",
        "    try:\n",
        "        # Convert color names to RGB values (you might need a color dictionary)\n",
        "        rgb1 = colorsys.rgb_to_hsv(*get_rgb_from_color_name(color1))\n",
        "        rgb2 = colorsys.rgb_to_hsv(*get_rgb_from_color_name(color2))\n",
        "\n",
        "        # Calculate complementary color of color1\n",
        "        complementary_rgb1 = (1 - rgb1[0], 1 - rgb1[1], 1 - rgb1[2])\n",
        "\n",
        "        # Calculate similarity between complementary_rgb1 and rgb2\n",
        "        similarity = 1 - (abs(complementary_rgb1[0] - rgb2[0]) +\n",
        "                          abs(complementary_rgb1[1] - rgb2[1]) +\n",
        "                          abs(complementary_rgb1[2] - rgb2[2])) / 3\n",
        "\n",
        "        return similarity\n",
        "\n",
        "    except (TypeError, ValueError):\n",
        "        # Handle cases where color conversion fails\n",
        "        return 0"
      ],
      "metadata": {
        "id": "2UpnzS3PO0OQ"
      },
      "execution_count": null,
      "outputs": []
    },
    {
      "cell_type": "code",
      "source": [
        "# You'll need to define the get_rgb_from_color_name function based on your color data\n",
        "def get_rgb_from_color_name(color_name):\n",
        "    # Example: If your data has a color dictionary:\n",
        "    color_dict = {\n",
        "    'Navy Blue': (0, 0, 0.5),  # Navy\n",
        "    'Blue': (0, 0, 1),\n",
        "    'Silver': (0.75, 0.75, 0.75),  # Light Gray\n",
        "    'Black': (0, 0, 0),\n",
        "    'Grey': (0.5, 0.5, 0.5),\n",
        "    'Green': (0, 1, 0),\n",
        "    'Purple': (0.5, 0, 0.5),\n",
        "    'White': (1, 1, 1),\n",
        "    'Beige': (0.96, 0.96, 0.86),\n",
        "    'Brown': (0.6, 0.4, 0.2),\n",
        "    'Bronze': (0.8, 0.5, 0.2),\n",
        "    'Teal': (0, 0.5, 0.5),\n",
        "    'Copper': (0.72, 0.45, 0.2),\n",
        "    'Pink': (1, 0.75, 0.8),\n",
        "    'Off White': (0.98, 0.98, 0.94),\n",
        "    'Maroon': (0.5, 0, 0),\n",
        "    'Red': (1, 0, 0),\n",
        "    'Khaki': (0.94, 0.9, 0.55),\n",
        "    'Orange': (1, 0.65, 0),\n",
        "    'Yellow': (1, 1, 0),\n",
        "    'Charcoal': (0.2, 0.2, 0.2),\n",
        "    'Steel': (0.54, 0.54, 0.54),\n",
        "    'Gold': (1, 0.84, 0),\n",
        "    'Tan': (0.82, 0.71, 0.55),\n",
        "    'Multi': (0.5, 0.5, 0.5),\n",
        "    'Magenta': (1, 0, 1),\n",
        "    'Lavender': (0.9, 0.9, 0.98),\n",
        "    'Sea Green': (0.18, 0.55, 0.34),\n",
        "    'Cream': (1, 0.99, 0.82),\n",
        "    'Peach': (1, 0.89, 0.71),\n",
        "    'Olive': (0.5, 0.5, 0),\n",
        "    'Burgundy': (0.5, 0, 0.13),\n",
        "    'Coffee Brown': (0.44, 0.33, 0.18),\n",
        "    'Grey Melange': (0.6, 0.6, 0.6),\n",
        "    'Rust': (0.8, 0.4, 0.1),\n",
        "    'Rose': (1, 0.5, 0.5),\n",
        "    'Lime Green': (0.2, 1, 0),\n",
        "    'Turquoise Blue': (0.25, 0.88, 0.82),\n",
        "    'Metallic': (0.75, 0.75, 0.75),\n",
        "    'Mustard': (1, 0.89, 0.1),\n",
        "    'Skin': (0.98, 0.8, 0.69),\n",
        "    'Taupe': (0.28, 0.24, 0.2),\n",
        "    'Nude': (0.94, 0.88, 0.82),\n",
        "    'Mushroom Brown': (0.6, 0.56, 0.47),\n",
        "    'Mauve': (0.86, 0.6, 0.69),  # Light Purple-Pink\n",
        "    'Fluorescent Green': (0.75, 1, 0.15) # Bright Green\n",
        "}\n",
        "\n",
        "    return color_dict.get(color_name, (0, 0, 0))  # Default to black if color not found"
      ],
      "metadata": {
        "id": "nk6-E588O5na"
      },
      "execution_count": null,
      "outputs": []
    },
    {
      "cell_type": "code",
      "source": [
        "input_index = 309\n",
        "recommendations = recommend_complementary_items(input_index)\n",
        "for category, items in recommendations.items():\n",
        "    print(f\"\\nRecommended {category}:\")\n",
        "    print(items[['gender', 'articleType', 'baseColour', 'usage', 'ratings', 'Price (USD)', 'link']])\n",
        "\n"
      ],
      "metadata": {
        "colab": {
          "base_uri": "https://localhost:8080/"
        },
        "id": "-36ZonKbLx0f",
        "outputId": "1b94b4d4-4019-416f-d2aa-72185c9ee465"
      },
      "execution_count": null,
      "outputs": [
        {
          "output_type": "stream",
          "name": "stdout",
          "text": [
            "\n",
            "Recommended Apparel:\n",
            "      gender articleType baseColour   usage  ratings  Price (USD)  \\\n",
            "20172    Men      Shirts    Magenta  Casual        5           37   \n",
            "\n",
            "                                                    link  \n",
            "20172  http://assets.myntassets.com/v1/images/style/p...  \n",
            "\n",
            "Recommended Footwear:\n",
            "   gender articleType baseColour   usage  ratings  Price (USD)  \\\n",
            "37    Men  Flip Flops       Blue  Casual        5           38   \n",
            "\n",
            "                                                 link  \n",
            "37  http://assets.myntassets.com/v1/images/style/p...  \n"
          ]
        }
      ]
    },
    {
      "cell_type": "code",
      "source": [
        "def print_item_details(index):\n",
        "    \"\"\"Prints the details of an item at the given index in df_encoded.\"\"\"\n",
        "    try:\n",
        "        item = df_encoded.iloc[index]\n",
        "        print(f\"Item details at index {index}:\")\n",
        "        for column, value in item.items():\n",
        "            print(f\"{column}: {value}\")\n",
        "    except IndexError:\n",
        "        print(f\"Error: Invalid index {index}. Index out of bounds.\")"
      ],
      "metadata": {
        "id": "-LwzEWABM0C_"
      },
      "execution_count": null,
      "outputs": []
    },
    {
      "cell_type": "code",
      "source": [
        "print_item_details(303)"
      ],
      "metadata": {
        "colab": {
          "base_uri": "https://localhost:8080/"
        },
        "id": "J_ILChVyL3Tv",
        "outputId": "6420e37f-dc72-4162-8965-7d18741ee193"
      },
      "execution_count": null,
      "outputs": [
        {
          "output_type": "stream",
          "name": "stdout",
          "text": [
            "Item details at index 303:\n",
            "gender: Men\n",
            "masterCategory: Footwear\n",
            "subCategory: Shoes\n",
            "articleType: Sports Shoes\n",
            "baseColour: Black\n",
            "usage: Sports\n",
            "ratings: 5\n",
            "Price (USD): 56\n",
            "link: http://assets.myntassets.com/v1/images/style/properties/4f04caea8e9056499b866fba1bef20f1_images.jpg\n",
            "gender_Boys: 0.0\n",
            "gender_Girls: 0.0\n",
            "gender_Men: 1.0\n",
            "gender_Unisex: 0.0\n",
            "gender_Women: 0.0\n",
            "baseColour_Beige: 0.0\n",
            "baseColour_Black: 1.0\n",
            "baseColour_Blue: 0.0\n",
            "baseColour_Bronze: 0.0\n",
            "baseColour_Brown: 0.0\n",
            "baseColour_Burgundy: 0.0\n",
            "baseColour_Charcoal: 0.0\n",
            "baseColour_Coffee Brown: 0.0\n",
            "baseColour_Copper: 0.0\n",
            "baseColour_Cream: 0.0\n",
            "baseColour_Fluorescent Green: 0.0\n",
            "baseColour_Gold: 0.0\n",
            "baseColour_Green: 0.0\n",
            "baseColour_Grey: 0.0\n",
            "baseColour_Grey Melange: 0.0\n",
            "baseColour_Khaki: 0.0\n",
            "baseColour_Lavender: 0.0\n",
            "baseColour_Lime Green: 0.0\n",
            "baseColour_Magenta: 0.0\n",
            "baseColour_Maroon: 0.0\n",
            "baseColour_Mauve: 0.0\n",
            "baseColour_Metallic: 0.0\n",
            "baseColour_Multi: 0.0\n",
            "baseColour_Mushroom Brown: 0.0\n",
            "baseColour_Mustard: 0.0\n",
            "baseColour_Navy Blue: 0.0\n",
            "baseColour_Nude: 0.0\n",
            "baseColour_Off White: 0.0\n",
            "baseColour_Olive: 0.0\n",
            "baseColour_Orange: 0.0\n",
            "baseColour_Peach: 0.0\n",
            "baseColour_Pink: 0.0\n",
            "baseColour_Purple: 0.0\n",
            "baseColour_Red: 0.0\n",
            "baseColour_Rose: 0.0\n",
            "baseColour_Rust: 0.0\n",
            "baseColour_Sea Green: 0.0\n",
            "baseColour_Silver: 0.0\n",
            "baseColour_Skin: 0.0\n",
            "baseColour_Steel: 0.0\n",
            "baseColour_Tan: 0.0\n",
            "baseColour_Taupe: 0.0\n",
            "baseColour_Teal: 0.0\n",
            "baseColour_Turquoise Blue: 0.0\n",
            "baseColour_White: 0.0\n",
            "baseColour_Yellow: 0.0\n",
            "usage_Casual: 0.0\n",
            "usage_Ethnic: 0.0\n",
            "usage_Formal: 0.0\n",
            "usage_Party: 0.0\n",
            "usage_Smart Casual: 0.0\n",
            "usage_Sports: 1.0\n",
            "usage_Travel: 0.0\n"
          ]
        }
      ]
    },
    {
      "cell_type": "code",
      "source": [],
      "metadata": {
        "id": "dJ47NFPeM23v"
      },
      "execution_count": null,
      "outputs": []
    }
  ]
}