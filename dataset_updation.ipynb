{
  "cells": [
    {
      "cell_type": "code",
      "execution_count": null,
      "metadata": {
        "id": "EDaeucOQ_1-J"
      },
      "outputs": [],
      "source": [
        "import pandas as pd\n",
        "\n",
        "\n",
        "df = pd.read_csv('/content/Final Fashion Dataset.csv')\n"
      ]
    },
    {
      "cell_type": "code",
      "execution_count": null,
      "metadata": {
        "collapsed": true,
        "id": "GiZzmC87ASQZ"
      },
      "outputs": [],
      "source": [
        "import random \n",
        "\n",
        "# Move 'user_id' to the right side and rename it to 'user_id1'\n",
        "columns = [col for col in df.columns if col != 'user_id']  # Exclude 'user_id' temporarily\n",
        "columns.append('user_id')  # Add 'user_id' at the end\n",
        "df = df[columns]  # Reorder columns\n",
        "df.rename(columns={'user_id': 'user_id1'}, inplace=True)  # Rename 'user_id' to 'user_id1'\n",
        "\n",
        "# Target number of additional users to add per product\n",
        "additional_users = 4\n",
        "\n",
        "# Create a new list to store rows with additional user_id columns\n",
        "expanded_rows = []"
      ]
    },
    {
      "cell_type": "code",
      "execution_count": null,
      "metadata": {
        "colab": {
          "background_save": true
        },
        "id": "9E0biwdFY1d9"
      },
      "outputs": [],
      "source": [
        "for _, row in df.iterrows():\n",
        "    # Find similar rows with the same gender only\n",
        "    similar_rows = df[df['gender'] == row['gender']]\n",
        "\n",
        "    # Get possible user_ids, excluding the current row's user_id1\n",
        "    possible_user_ids = similar_rows['user_id1'].tolist()\n",
        "    possible_user_ids.remove(row['user_id1'])  # Exclude the current user_id1 to avoid duplication\n",
        "\n",
        "    # Randomly select additional user_ids\n",
        "    selected_user_ids = random.sample(possible_user_ids, min(additional_users, len(possible_user_ids)))\n",
        "\n",
        "    # Create a new row with the original data\n",
        "    new_row = row.copy()\n",
        "\n",
        "    # Add the selected user_ids as new columns\n",
        "    for i, user_id in enumerate(selected_user_ids, start=2):  # Starting from user_id2\n",
        "        new_row[f'user_id{i}'] = user_id\n",
        "\n",
        "    # Fill any remaining user_id columns with NaN if less than 4 additional users are available\n",
        "    for i in range(2, 2 + additional_users):\n",
        "        if f'user_id{i}' not in new_row:\n",
        "            new_row[f'user_id{i}'] = None\n",
        "\n",
        "    # Add the new row to the list\n",
        "    expanded_rows.append(new_row)\n"
      ]
    },
    {
      "cell_type": "code",
      "execution_count": null,
      "metadata": {
        "id": "eiG1u10eY7MS"
      },
      "outputs": [],
      "source": [
        "# Create a new DataFrame with the expanded rows\n",
        "expanded_df = pd.DataFrame(expanded_rows)\n",
        "\n",
        "# Save the expanded DataFrame to a new CSV file\n",
        "expanded_df.to_csv('expanded_product_dataset.csv', index=False)"
      ]
    },
    {
      "cell_type": "code",
      "execution_count": null,
      "metadata": {
        "colab": {
          "base_uri": "https://localhost:8080/"
        },
        "id": "geW6Ny8fY7Uk",
        "outputId": "33e1c79b-f60b-4ee5-e1f8-a216f86f9e09"
      },
      "outputs": [
        {
          "name": "stdout",
          "output_type": "stream",
          "text": [
            "        id  gender masterCategory subCategory   articleType baseColour  \\\n",
            "0     8493   Women        Apparel  Bottomwear        Skirts      Black   \n",
            "1    30757     Men        Apparel     Topwear        Kurtas       Grey   \n",
            "2    14881   Women    Accessories        Bags      Handbags      Black   \n",
            "3    48449     Men        Apparel     Topwear       Tshirts       Blue   \n",
            "4     4697  Unisex    Accessories     Watches       Watches      Black   \n",
            "..     ...     ...            ...         ...           ...        ...   \n",
            "995   4020  Unisex       Footwear       Shoes  Casual Shoes      Green   \n",
            "996  34545     Men    Accessories       Belts         Belts  Navy Blue   \n",
            "997  33086   Women       Footwear       Shoes         Heels        Red   \n",
            "998  39657     Men       Footwear       Shoes  Casual Shoes      White   \n",
            "999  39504  Unisex    Accessories        Bags    Duffel Bag      Black   \n",
            "\n",
            "     season    year   usage  \\\n",
            "0      Fall  2011.0  Casual   \n",
            "1    Summer  2012.0  Ethnic   \n",
            "2    Summer  2011.0  Casual   \n",
            "3    Summer  2012.0  Casual   \n",
            "4    Winter  2016.0  Sports   \n",
            "..      ...     ...     ...   \n",
            "995  Summer  2011.0  Casual   \n",
            "996  Summer  2012.0  Casual   \n",
            "997  Winter  2015.0  Casual   \n",
            "998  Summer  2012.0  Casual   \n",
            "999  Summer  2012.0  Casual   \n",
            "\n",
            "                                    productDisplayName  ...  \\\n",
            "0                       Forever New Women Black Skirts  ...   \n",
            "1                   Fabindia Men Grey Mangalgiri Kurta  ...   \n",
            "2    United Colors of Benetton Women Solid Black Ha...  ...   \n",
            "3                   French Connection Men Blue T-shirt  ...   \n",
            "4             ADIDAS Unisex Digital Duramo Black Watch  ...   \n",
            "..                                                 ...  ...   \n",
            "995        ADIDAS Unisex Check Can MW Green White Shoe  ...   \n",
            "996              Puma Men Patch Webbing Navy Blue Belt  ...   \n",
            "997                            Catwalk Women Red Flats  ...   \n",
            "998                              Lotto Men White Shoes  ...   \n",
            "999              Peter England Unisex Black Duffle Bag  ...   \n",
            "\n",
            "                                                  link ratings  \\\n",
            "0    http://assets.myntassets.com/v1/images/style/p...       5   \n",
            "1    http://assets.myntassets.com/v1/images/style/p...       4   \n",
            "2    http://assets.myntassets.com/v1/images/style/p...       3   \n",
            "3    http://assets.myntassets.com/v1/images/style/p...       5   \n",
            "4    http://assets.myntassets.com/v1/images/style/p...       4   \n",
            "..                                                 ...     ...   \n",
            "995  http://assets.myntassets.com/v1/images/style/p...       1   \n",
            "996  http://assets.myntassets.com/v1/images/style/p...       3   \n",
            "997  http://assets.myntassets.com/v1/images/style/p...       5   \n",
            "998  http://assets.myntassets.com/v1/images/style/p...       1   \n",
            "999  http://assets.myntassets.com/v1/images/style/p...       5   \n",
            "\n",
            "                                                review      Month Price (USD)  \\\n",
            "0    Amazing quality! Definitely recommend. Would r...   November          46   \n",
            "1                Perfect for any occasion, great buy..  September          29   \n",
            "2                         It's okay, nothing special.!    October          39   \n",
            "3    Comfortable and stylish, worth the price. and ...     August          39   \n",
            "4                Perfect for any occasion, great buy.!      March          33   \n",
            "..                                                 ...        ...         ...   \n",
            "995  Cheap fabric, uncomfortable to wear. for speci...   November          26   \n",
            "996  Satisfactory for the price. especially for thi...   November          11   \n",
            "997  Amazing quality! Definitely recommend. for spe...    January          38   \n",
            "998            Terrible quality, not worth the money..      March          20   \n",
            "999         Comfortable and stylish, worth the price..     August          59   \n",
            "\n",
            "     user_id1  user_id2  user_id3  user_id4  user_id5  \n",
            "0       93810   76307.0   57447.0   77000.0   95990.0  \n",
            "1       24592   83579.0   41830.0   83975.0   83563.0  \n",
            "2       13278   39871.0   22224.0   22899.0   83000.0  \n",
            "3       46048   80678.0   91560.0   63424.0   37742.0  \n",
            "4       42098   66333.0   87397.0   33416.0   76542.0  \n",
            "..        ...       ...       ...       ...       ...  \n",
            "995     48974   39451.0   68991.0   59856.0   13201.0  \n",
            "996     87139   96673.0   89415.0   74454.0   83147.0  \n",
            "997     66207   53369.0   42662.0   99399.0   92149.0  \n",
            "998     30730   81819.0   95649.0   84593.0   54597.0  \n",
            "999     48974   13201.0   87278.0   30676.0   24322.0  \n",
            "\n",
            "[1000 rows x 21 columns]\n"
          ]
        }
      ],
      "source": [
        "# View the expanded dataset\n",
        "print(expanded_df)"
      ]
    },
    {
      "cell_type": "code",
      "execution_count": null,
      "metadata": {
        "id": "E8ryptvigd7s"
      },
      "outputs": [],
      "source": []
    }
  ],
  "metadata": {
    "colab": {
      "provenance": []
    },
    "kernelspec": {
      "display_name": "Python 3",
      "name": "python3"
    },
    "language_info": {
      "name": "python"
    }
  },
  "nbformat": 4,
  "nbformat_minor": 0
}
